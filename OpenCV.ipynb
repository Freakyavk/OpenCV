{
 "cells": [
  {
   "cell_type": "code",
   "execution_count": 1,
   "id": "bc717818",
   "metadata": {},
   "outputs": [],
   "source": [
    "import cv2\n",
    "import numpy"
   ]
  },
  {
   "cell_type": "code",
   "execution_count": 2,
   "id": "71e601b8",
   "metadata": {},
   "outputs": [],
   "source": [
    "img=cv2.imread(\"D:\\\\Wallpaper\\\\164473.jpg\",1)#colour image"
   ]
  },
  {
   "cell_type": "code",
   "execution_count": 3,
   "id": "cf813e14",
   "metadata": {},
   "outputs": [
    {
     "name": "stdout",
     "output_type": "stream",
     "text": [
      "[[[ 34  80  34]\n",
      "  [ 34  80  34]\n",
      "  [ 34  80  34]\n",
      "  ...\n",
      "  [ 50 110  49]\n",
      "  [ 50 110  49]\n",
      "  [ 50 110  49]]\n",
      "\n",
      " [[ 36  79  36]\n",
      "  [ 34  79  36]\n",
      "  [ 34  79  36]\n",
      "  ...\n",
      "  [ 50 110  49]\n",
      "  [ 50 110  49]\n",
      "  [ 50 110  49]]\n",
      "\n",
      " [[ 36  79  36]\n",
      "  [ 36  79  36]\n",
      "  [ 36  79  36]\n",
      "  ...\n",
      "  [ 50 110  49]\n",
      "  [ 50 110  49]\n",
      "  [ 50 110  49]]\n",
      "\n",
      " ...\n",
      "\n",
      " [[ 27  59  28]\n",
      "  [ 27  59  28]\n",
      "  [ 27  59  28]\n",
      "  ...\n",
      "  [ 27  60  26]\n",
      "  [ 27  60  26]\n",
      "  [ 27  60  26]]\n",
      "\n",
      " [[ 27  59  28]\n",
      "  [ 27  59  28]\n",
      "  [ 27  59  28]\n",
      "  ...\n",
      "  [ 27  60  26]\n",
      "  [ 27  60  26]\n",
      "  [ 27  60  26]]\n",
      "\n",
      " [[ 27  59  28]\n",
      "  [ 27  59  28]\n",
      "  [ 26  58  27]\n",
      "  ...\n",
      "  [ 27  60  26]\n",
      "  [ 27  60  26]\n",
      "  [ 27  60  26]]]\n"
     ]
    }
   ],
   "source": [
    "print(img)"
   ]
  },
  {
   "cell_type": "code",
   "execution_count": 4,
   "id": "c75d76af",
   "metadata": {},
   "outputs": [],
   "source": [
    "ig=cv2.imread(\"D:\\\\Wallpaper\\\\164473.jpg\",0)#b&w image"
   ]
  },
  {
   "cell_type": "code",
   "execution_count": 5,
   "id": "05a61130",
   "metadata": {},
   "outputs": [
    {
     "name": "stdout",
     "output_type": "stream",
     "text": [
      "[[61 61 61 ... 85 85 85]\n",
      " [61 61 61 ... 85 85 85]\n",
      " [61 61 61 ... 85 85 85]\n",
      " ...\n",
      " [46 46 46 ... 46 46 46]\n",
      " [46 46 46 ... 46 46 46]\n",
      " [46 46 45 ... 46 46 46]]\n"
     ]
    }
   ],
   "source": [
    "print(ig)"
   ]
  },
  {
   "cell_type": "code",
   "execution_count": 6,
   "id": "4f747f95",
   "metadata": {},
   "outputs": [
    {
     "name": "stdout",
     "output_type": "stream",
     "text": [
      "(1200, 1920, 3)\n"
     ]
    }
   ],
   "source": [
    "print(img.shape)#Due to colour image 3(RGB) channels"
   ]
  },
  {
   "cell_type": "code",
   "execution_count": 7,
   "id": "6203e131",
   "metadata": {},
   "outputs": [
    {
     "name": "stdout",
     "output_type": "stream",
     "text": [
      "(1200, 1920)\n"
     ]
    }
   ],
   "source": [
    "print(ig.shape)#Due to b&w image 1 channels"
   ]
  },
  {
   "cell_type": "code",
   "execution_count": 8,
   "id": "d86d4f14",
   "metadata": {},
   "outputs": [
    {
     "name": "stdout",
     "output_type": "stream",
     "text": [
      "<class 'numpy.ndarray'>\n"
     ]
    }
   ],
   "source": [
    "print(type(img))"
   ]
  },
  {
   "cell_type": "code",
   "execution_count": 9,
   "id": "15dd8b71",
   "metadata": {},
   "outputs": [],
   "source": [
    "cv2.imshow(\"Anime\",img)\n",
    "cv2.waitKey(2000)\n",
    "cv2.destroyAllWindows()"
   ]
  },
  {
   "cell_type": "code",
   "execution_count": 10,
   "id": "9bd58478",
   "metadata": {},
   "outputs": [],
   "source": [
    "rs=cv2.resize(img,(600,600))\n",
    "cv2.imshow(\"Anime\",rs)\n",
    "cv2.waitKey(0)\n",
    "cv2.destroyAllWindows()"
   ]
  },
  {
   "cell_type": "code",
   "execution_count": 11,
   "id": "2c0f5a74",
   "metadata": {},
   "outputs": [],
   "source": [
    "rs2=cv2.resize(img, (int(img.shape[1]/2),int(img.shape[0]/2)))"
   ]
  },
  {
   "cell_type": "code",
   "execution_count": 12,
   "id": "bf7a0772",
   "metadata": {},
   "outputs": [],
   "source": [
    "cv2.imshow(\"Anime\",rs2)\n",
    "cv2.waitKey(0)\n",
    "cv2.destroyAllWindows()"
   ]
  },
  {
   "cell_type": "code",
   "execution_count": 14,
   "id": "7b676b7a",
   "metadata": {},
   "outputs": [],
   "source": [
    "import time"
   ]
  },
  {
   "cell_type": "code",
   "execution_count": 15,
   "id": "c328b7bc",
   "metadata": {},
   "outputs": [],
   "source": [
    "video=cv2.VideoCapture(0)\n",
    "time.sleep(3)\n",
    "video.release()"
   ]
  },
  {
   "cell_type": "code",
   "execution_count": 16,
   "id": "99d0e133",
   "metadata": {},
   "outputs": [
    {
     "name": "stdout",
     "output_type": "stream",
     "text": [
      "True\n",
      "[[[ 15  11   6]\n",
      "  [ 14   9   3]\n",
      "  [ 15   9   3]\n",
      "  ...\n",
      "  [255 255 252]\n",
      "  [255 255 252]\n",
      "  [255 255 252]]\n",
      "\n",
      " [[ 14  10   4]\n",
      "  [ 13   8   2]\n",
      "  [ 15  11   3]\n",
      "  ...\n",
      "  [255 255 252]\n",
      "  [255 255 252]\n",
      "  [255 255 252]]\n",
      "\n",
      " [[ 14  11   4]\n",
      "  [ 13  10   2]\n",
      "  [ 16  13   3]\n",
      "  ...\n",
      "  [255 255 252]\n",
      "  [255 255 252]\n",
      "  [255 255 252]]\n",
      "\n",
      " ...\n",
      "\n",
      " [[ 69  57  32]\n",
      "  [ 60  50  26]\n",
      "  [ 60  55  30]\n",
      "  ...\n",
      "  [ 10  15   3]\n",
      "  [ 10  13   3]\n",
      "  [  9  12   3]]\n",
      "\n",
      " [[ 68  56  31]\n",
      "  [ 64  55  29]\n",
      "  [ 62  57  32]\n",
      "  ...\n",
      "  [ 11  14   4]\n",
      "  [ 12  14   5]\n",
      "  [ 11  12   5]]\n",
      "\n",
      " [[ 68  57  30]\n",
      "  [ 67  58  32]\n",
      "  [ 62  57  31]\n",
      "  ...\n",
      "  [ 10  13   4]\n",
      "  [ 12  13   6]\n",
      "  [ 13  13   7]]]\n"
     ]
    }
   ],
   "source": [
    "video=cv2.VideoCapture(0)\n",
    "check,frame=video.read()\n",
    "print(check)\n",
    "print(frame)\n",
    "time.sleep(3)\n",
    "video.release()"
   ]
  },
  {
   "cell_type": "code",
   "execution_count": 17,
   "id": "ca8f8c88",
   "metadata": {},
   "outputs": [],
   "source": [
    "video=cv2.VideoCapture(0)\n",
    "check,frame=video.read()\n",
    "time.sleep(3)\n",
    "cv2.imshow(\"Capturing\",frame)\n",
    "cv2.waitKey(0)\n",
    "cv2.destroyAllWindows()\n",
    "video.release()"
   ]
  },
  {
   "cell_type": "code",
   "execution_count": 18,
   "id": "351bd534",
   "metadata": {},
   "outputs": [
    {
     "name": "stdout",
     "output_type": "stream",
     "text": [
      "336\n"
     ]
    }
   ],
   "source": [
    "video=cv2.VideoCapture(0)\n",
    "a=1\n",
    "while True:\n",
    "    a=a+1\n",
    "    check,frame=video.read()\n",
    "    gray=cv2.cvtColor(frame,cv2.COLOR_BGR2GRAY)\n",
    "    cv2.imshow(\"Capture\",gray)\n",
    "    key = cv2.waitKey(1)\n",
    "    if key == ord('q'):\n",
    "        break\n",
    "print(a)\n",
    "cv2.destroyAllWindows()\n",
    "video.release()"
   ]
  },
  {
   "cell_type": "raw",
   "id": "e936f75f",
   "metadata": {},
   "source": [
    "Image Capture-Face Detecting"
   ]
  },
  {
   "cell_type": "code",
   "execution_count": 22,
   "id": "f13b4350",
   "metadata": {},
   "outputs": [],
   "source": [
    "import cv2\n",
    "face_cascade=cv2.CascadeClassifier(\"F:\\\\Python\\\\OpenCV\\\\haarcascade_frontalface_default.xml\")\n",
    "img=cv2.imread(\"C:\\\\Users\\\\freak\\\\OneDrive\\\\Desktop\\\\screenshot\\\\2.jpg\")\n",
    "gray=cv2.cvtColor(img,cv2.COLOR_RGB2GRAY)\n",
    "faces=face_cascade.detectMultiScale(gray,1.1,4)\n",
    "for (x,y,w,h) in faces:\n",
    "    cv2.rectangle(img,(x,y),(x+w,y+h),(255,0,0),2)\n",
    "cv2.imshow('img',img)\n",
    "cv2.waitKey(0)\n",
    "cv2.destroyAllWindows()"
   ]
  },
  {
   "cell_type": "raw",
   "id": "d02dec7a",
   "metadata": {},
   "source": [
    "Video Capture-Face Detecting"
   ]
  },
  {
   "cell_type": "code",
   "execution_count": 21,
   "id": "7f4b961e",
   "metadata": {},
   "outputs": [],
   "source": [
    "import cv2\n",
    "face_cascade = cv2.CascadeClassifier('F:\\\\Python\\\\OpenCV\\\\haarcascade_frontalface_default.xml')\n",
    "cap = cv2.VideoCapture(0)\n",
    "\n",
    "while True:\n",
    "    _, img = cap.read()\n",
    "    gray = cv2.cvtColor(img, cv2.COLOR_BGR2GRAY)\n",
    "    faces = face_cascade.detectMultiScale(gray, 1.1, 4)\n",
    "\n",
    "    for (x, y, w, h) in faces:\n",
    "        cv2.rectangle(img, (x, y), (x+w, y+h), (255, 0, 0), 2)\n",
    "\n",
    "    cv2.imshow('img', img)\n",
    "\n",
    "    k = cv2.waitKey(1)\n",
    "    if k== ord('q'):\n",
    "        break\n",
    "cap.release()\n",
    "cv2.destroyAllWindows()"
   ]
  },
  {
   "cell_type": "code",
   "execution_count": null,
   "id": "29f6ccb9",
   "metadata": {},
   "outputs": [],
   "source": []
  }
 ],
 "metadata": {
  "kernelspec": {
   "display_name": "Python 3",
   "language": "python",
   "name": "python3"
  },
  "language_info": {
   "codemirror_mode": {
    "name": "ipython",
    "version": 3
   },
   "file_extension": ".py",
   "mimetype": "text/x-python",
   "name": "python",
   "nbconvert_exporter": "python",
   "pygments_lexer": "ipython3",
   "version": "3.8.8"
  }
 },
 "nbformat": 4,
 "nbformat_minor": 5
}
